{
 "cells": [
  {
   "cell_type": "code",
   "execution_count": 1,
   "metadata": {},
   "outputs": [],
   "source": [
    "import os\n",
    "#import pandas as pd\n",
    "import numpy as np\n",
    "import cv2\n",
    "#from PIL import Image\n",
    "import random\n",
    "#import tensorflow as tf\n",
    "#import re\n",
    "#import datetime\n",
    "#import io\n",
    "#from sklearn.model_selection import train_test_split\n",
    "from matplotlib import pyplot as plt\n",
    "#import pickle\n",
    "from sklearn.model_selection import train_test_split\n",
    "from nltk.metrics.distance import edit_distance\n",
    "#import string\n",
    "#from utils import generate_token_index\n",
    "#from utils import score_prediction, generate_token_index, y_labels, generate_dataset\n",
    "\n",
    "%matplotlib inline"
   ]
  },
  {
   "cell_type": "code",
   "execution_count": 2,
   "metadata": {},
   "outputs": [],
   "source": [
    "data_folder = '../../dataset/'"
   ]
  },
  {
   "cell_type": "code",
   "execution_count": 3,
   "metadata": {},
   "outputs": [],
   "source": [
    "maxTextLen = 30\n",
    "\n",
    "dataset_orig = []\n",
    "\n",
    "f=open(data_folder + 'words.txt')\n",
    "chars = set()\n",
    "for line in f:\n",
    "    # ignore comment line\n",
    "    if not line or line[0]=='#':\n",
    "        continue\n",
    "\n",
    "    lineSplit = line.strip().split(' ')\n",
    "    assert len(lineSplit) >= 9\n",
    "\n",
    "    # filename: part1-part2-part3 --> part1/part1-part2/part1-part2-part3.png\n",
    "    fileNameSplit = lineSplit[0].split('-')\n",
    "    fileName = data_folder + 'words/' + fileNameSplit[0] + '/' + fileNameSplit[0] + '-' + fileNameSplit[1] + '/' + lineSplit[0] + '.png'\n",
    "\n",
    "    # GT text are columns starting at 9\n",
    "    gtText = ' '.join(lineSplit[8:])[:maxTextLen]\n",
    "    chars = chars.union(set(list(gtText)))\n",
    "\n",
    "    # put sample into list\n",
    "    dataset_orig.append((gtText, fileName))"
   ]
  },
  {
   "cell_type": "code",
   "execution_count": 4,
   "metadata": {},
   "outputs": [
    {
     "data": {
      "text/plain": [
       "('A', '../../dataset/words/a01/a01-000u/a01-000u-00-00.png')"
      ]
     },
     "execution_count": 4,
     "metadata": {},
     "output_type": "execute_result"
    }
   ],
   "source": [
    "dataset_orig[0]"
   ]
  },
  {
   "cell_type": "code",
   "execution_count": null,
   "metadata": {},
   "outputs": [],
   "source": [
    "#select only a fraction\n",
    "fraction = 0.3\n",
    "max_len = int(len(dataset_orig) * fraction)"
   ]
  },
  {
   "cell_type": "code",
   "execution_count": 5,
   "metadata": {},
   "outputs": [],
   "source": [
    "#indices = np.random.randint(0, len(dataset_orig), max_len)\n",
    "#dataset = [dataset_orig[j] for j in indices]\n",
    "#len(dataset)\n",
    "dataset = dataset_orig"
   ]
  },
  {
   "cell_type": "code",
   "execution_count": 6,
   "metadata": {},
   "outputs": [
    {
     "data": {
      "text/plain": [
       "('A', '../../dataset/words/a01/a01-000u/a01-000u-00-00.png')"
      ]
     },
     "execution_count": 6,
     "metadata": {},
     "output_type": "execute_result"
    }
   ],
   "source": [
    "dataset[0]"
   ]
  },
  {
   "cell_type": "code",
   "execution_count": 7,
   "metadata": {},
   "outputs": [],
   "source": [
    "dim = 128\n",
    "\n",
    "y_size = dim\n",
    "x_size = dim * 3"
   ]
  },
  {
   "cell_type": "code",
   "execution_count": 8,
   "metadata": {},
   "outputs": [],
   "source": [
    "def new_preprocessing(dataset, y_size, x_size):\n",
    "    imgs = []\n",
    "    words = []\n",
    "\n",
    "    for ind in range(len(dataset)):\n",
    "\n",
    "    #for ind in range(30):\n",
    "    #    print(ind)\n",
    "        fpath = dataset[ind][1]\n",
    "        #print(file)\n",
    "        img = cv2.imread(fpath, 0)\n",
    "        if img is not None:            \n",
    "            (wt, ht) = x_size, y_size\n",
    "            (h, w) = img.shape\n",
    "            fx = w / wt\n",
    "            fy = h / ht\n",
    "            f = max(fx, fy)\n",
    "            newSize = (max(min(wt, int(w / f)), 1), max(min(ht, int(h / f)), 1)) # scale according to f (result at least 1 and at most wt or ht)\n",
    "            img = cv2.resize(img, newSize)\n",
    "            target = np.ones([ht, wt]) * 255\n",
    "            target[0:newSize[1], 0:newSize[0]] = img\n",
    "\n",
    "            # transpose for TF\n",
    "            #img = cv2.transpose(target)\n",
    "\n",
    "            img = target\n",
    "            \n",
    "            # normalize\n",
    "            (m, s) = cv2.meanStdDev(img)\n",
    "            m = m[0][0]\n",
    "            s = s[0][0]\n",
    "            img = img - m\n",
    "            img = img / s if s>0 else img            \n",
    "            \n",
    "            imgs.append(img)\n",
    "            words.append(dataset[ind][0])\n",
    "\n",
    "    array_images = np.asarray(imgs)\n",
    "    \n",
    "    return array_images, words "
   ]
  },
  {
   "cell_type": "code",
   "execution_count": 9,
   "metadata": {},
   "outputs": [],
   "source": [
    "array_images, words = new_preprocessing(dataset, y_size, x_size)"
   ]
  },
  {
   "cell_type": "code",
   "execution_count": 10,
   "metadata": {},
   "outputs": [
    {
     "data": {
      "text/plain": [
       "(115318, 128, 384)"
      ]
     },
     "execution_count": 10,
     "metadata": {},
     "output_type": "execute_result"
    }
   ],
   "source": [
    "array_images.shape"
   ]
  },
  {
   "cell_type": "code",
   "execution_count": 11,
   "metadata": {},
   "outputs": [
    {
     "data": {
      "image/png": "[encoded data removed]",
      "text/plain": [
       "<Figure size 648x648 with 1 Axes>"
      ]
     },
     "metadata": {
      "needs_background": "light"
     },
     "output_type": "display_data"
    },
    {
     "name": "stdout",
     "output_type": "stream",
     "text": [
      "word =  Derek\n"
     ]
    }
   ],
   "source": [
    "index = random.randint(0, array_images.shape[0] - 1)\n",
    "plt.figure(figsize=(9, 9)) \n",
    "#plt.imshow(np.reshape(array_images[index, :, :], (y_size, x_size)), cmap=plt.get_cmap('gray'))\n",
    "plt.imshow(array_images[index, :, :], cmap=plt.get_cmap('gray'))\n",
    "plt.show()\n",
    "print(\"word = \", words[index])"
   ]
  },
  {
   "cell_type": "code",
   "execution_count": 12,
   "metadata": {},
   "outputs": [],
   "source": [
    "#target_texts = []\n",
    "max_decoder_seq_length = 0.\n",
    "decoder_tokens = set()\n",
    "\n",
    "for word in words:\n",
    "#    word = '[' + word + ']'\n",
    "    decoder_tokens.add('[')\n",
    "    decoder_tokens.add(']')\n",
    "\n",
    "    if len(word) > max_decoder_seq_length:\n",
    "        max_decoder_seq_length = len(word)\n",
    "    for letter in word:\n",
    "        decoder_tokens.add(letter)\n",
    "    #    input_text, target_text = line.split('\\t')\n",
    "    # We use \"tab\" as the \"start sequence\" character\n",
    "    # for the targets, and \"\\n\" as \"end sequence\" character.\n",
    "    \n",
    "#    input_texts.append(input_text)\n",
    "#    target_texts.append(word\n",
    "\n",
    "max_decoder_seq_length += 2    \n",
    "decoder_tokens  = list(decoder_tokens)"
   ]
  },
  {
   "cell_type": "code",
   "execution_count": 13,
   "metadata": {},
   "outputs": [
    {
     "data": {
      "text/plain": [
       "32"
      ]
     },
     "execution_count": 13,
     "metadata": {},
     "output_type": "execute_result"
    }
   ],
   "source": [
    "max_decoder_seq_length"
   ]
  },
  {
   "cell_type": "code",
   "execution_count": 14,
   "metadata": {},
   "outputs": [],
   "source": [
    "def generate_token_index(decoder_tokens):\n",
    "    #decoder_tokens += ':[]'\n",
    "    num_decoder_tokens = len(decoder_tokens)\n",
    "    \n",
    "    return dict((k, v) for v, k in enumerate(decoder_tokens)), num_decoder_tokens"
   ]
  },
  {
   "cell_type": "code",
   "execution_count": 15,
   "metadata": {},
   "outputs": [],
   "source": [
    "target_token_index, num_decoder_tokens = generate_token_index(decoder_tokens)\n",
    "#max_decoder_seq_length = 5"
   ]
  },
  {
   "cell_type": "code",
   "execution_count": 16,
   "metadata": {},
   "outputs": [
    {
     "data": {
      "text/plain": [
       "81"
      ]
     },
     "execution_count": 16,
     "metadata": {},
     "output_type": "execute_result"
    }
   ],
   "source": [
    "num_decoder_tokens"
   ]
  },
  {
   "cell_type": "markdown",
   "metadata": {},
   "source": [
    "### tran test split "
   ]
  },
  {
   "cell_type": "code",
   "execution_count": 17,
   "metadata": {},
   "outputs": [],
   "source": [
    "#array_images = np.reshape(array_images, (-1, y_size, x_size, 1))\n",
    "array_images = np.reshape(array_images, (-1, y_size, x_size, 1))"
   ]
  },
  {
   "cell_type": "code",
   "execution_count": 18,
   "metadata": {},
   "outputs": [],
   "source": [
    "random_state = 46\n",
    "test_size=0.1\n",
    "val_size = 0.1\n",
    "array_images_train_val, array_images_test, words_train_val, words_test = train_test_split(array_images, words, test_size=test_size, random_state=random_state)  \n",
    "array_images_train, array_images_val, words_train, words_val = train_test_split(array_images_train_val, words_train_val, test_size=val_size, random_state=random_state)  "
   ]
  },
  {
   "cell_type": "code",
   "execution_count": 19,
   "metadata": {},
   "outputs": [
    {
     "data": {
      "text/plain": [
       "(93407, 128, 384, 1)"
      ]
     },
     "execution_count": 19,
     "metadata": {},
     "output_type": "execute_result"
    }
   ],
   "source": [
    "array_images_train.shape"
   ]
  },
  {
   "cell_type": "code",
   "execution_count": 20,
   "metadata": {},
   "outputs": [
    {
     "data": {
      "text/plain": [
       "93407"
      ]
     },
     "execution_count": 20,
     "metadata": {},
     "output_type": "execute_result"
    }
   ],
   "source": [
    "len(words_train)"
   ]
  },
  {
   "cell_type": "code",
   "execution_count": 21,
   "metadata": {},
   "outputs": [],
   "source": [
    "def y_labels(ys, max_decoder_seq_length, num_decoder_tokens, target_token_index):\n",
    "\n",
    "    decoder_input_data = np.zeros( (len(ys),  max_decoder_seq_length, num_decoder_tokens), dtype='float32')\n",
    "    decoder_target_data = np.zeros( (len(ys), max_decoder_seq_length, num_decoder_tokens), dtype='float32')\n",
    "    \n",
    "    for i, target_text in enumerate(ys):\n",
    "        target_text = '[' + target_text + ']'\n",
    "        \n",
    "        for t, char in enumerate(target_text):\n",
    "            decoder_input_data[i, t, target_token_index[char]] = 1.\n",
    "            if t > 0:\n",
    "                decoder_target_data[i, t - 1, target_token_index[char]] = 1.\n",
    "\n",
    "    return decoder_input_data, decoder_target_data"
   ]
  },
  {
   "cell_type": "code",
   "execution_count": 22,
   "metadata": {},
   "outputs": [],
   "source": [
    "#create one-hot labelling for target sequence\n",
    "decoder_input_data_train, decoder_target_data_train = y_labels(words_train, max_decoder_seq_length, num_decoder_tokens, target_token_index)\n",
    "decoder_input_data_val, decoder_target_data_val = y_labels(words_val, max_decoder_seq_length, num_decoder_tokens, target_token_index)\n",
    "decoder_input_data_test, decoder_target_data_test = y_labels(words_test, max_decoder_seq_length, num_decoder_tokens, target_token_index)"
   ]
  },
  {
   "cell_type": "code",
   "execution_count": 23,
   "metadata": {},
   "outputs": [
    {
     "data": {
      "text/plain": [
       "(93407, 32, 81)"
      ]
     },
     "execution_count": 23,
     "metadata": {},
     "output_type": "execute_result"
    }
   ],
   "source": [
    "decoder_target_data_train.shape"
   ]
  },
  {
   "cell_type": "markdown",
   "metadata": {},
   "source": [
    "### Data augmentation"
   ]
  },
  {
   "cell_type": "code",
   "execution_count": 24,
   "metadata": {},
   "outputs": [],
   "source": [
    "#from keras.preprocessing.image import ImageDataGenerator\n",
    "# define data preparation\n",
    "#train_datagen = ImageDataGenerator(\n",
    "#                             #featurewise_center=True, featurewise_std_normalization=True, \n",
    "#                             #samplewise_center=True, samplewise_std_normalization=True,\n",
    "##                             rescale=1./255,\n",
    "#                             #rotation_range=5, width_shift_range=0.05, height_shift_range=0.1, \n",
    "#                             #shear_range = 3, zoom_range = [0.9, 1.1], \n",
    "#                             rotation_range=5, width_shift_range=0.1, height_shift_range=0.2, \n",
    "#                             shear_range = 5, zoom_range = [0.8, 1.2], \n",
    "#                             horizontal_flip=False, data_format='channels_last')\n",
    "\n",
    "#val_datagen = ImageDataGenerator(\n",
    "#                                 #rescale=1./255, \n",
    "#                                 #samplewise_center=True, samplewise_std_normalization=True,\n",
    "#                                 data_format='channels_last')"
   ]
  },
  {
   "cell_type": "markdown",
   "metadata": {},
   "source": [
    "### Keras model"
   ]
  },
  {
   "cell_type": "code",
   "execution_count": 25,
   "metadata": {},
   "outputs": [
    {
     "name": "stderr",
     "output_type": "stream",
     "text": [
      "Using TensorFlow backend.\n"
     ]
    }
   ],
   "source": [
    "#from __future__ import print_function\n",
    "from keras.models import Model, load_model\n",
    "from keras.layers import Input, LSTM, Dense, TimeDistributed, Conv2D, MaxPooling2D, Reshape, Dropout, BatchNormalization, Activation, Bidirectional, concatenate, add, Lambda, Permute\n",
    "from keras.callbacks import EarlyStopping\n",
    "#import keras.backend as K\n",
    "from keras.optimizers import Adam"
   ]
  },
  {
   "cell_type": "code",
   "execution_count": 26,
   "metadata": {},
   "outputs": [],
   "source": [
    "latent_dim = 512  # Latent dimensionality of the encoding space.\n",
    "#optimizer\n",
    "optimizer = Adam(lr=0.001, beta_1=0.9, beta_2=0.999, epsilon=None, decay=0.0, amsgrad=False)"
   ]
  },
  {
   "cell_type": "code",
   "execution_count": 27,
   "metadata": {
    "scrolled": false
   },
   "outputs": [
    {
     "name": "stdout",
     "output_type": "stream",
     "text": [
      "__________________________________________________________________________________________________\n",
      "Layer (type)                    Output Shape         Param #     Connected to                     \n",
      "==================================================================================================\n",
      "input_encoder (InputLayer)      (None, 128, 384, 1)  0                                            \n",
      "__________________________________________________________________________________________________\n",
      "conv_1 (Conv2D)                 (None, 128, 384, 16) 784         input_encoder[0][0]              \n",
      "__________________________________________________________________________________________________\n",
      "batch_norm_1 (BatchNormalizatio (None, 128, 384, 16) 64          conv_1[0][0]                     \n",
      "__________________________________________________________________________________________________\n",
      "activation_1 (Activation)       (None, 128, 384, 16) 0           batch_norm_1[0][0]               \n",
      "__________________________________________________________________________________________________\n",
      "maxpool_1 (MaxPooling2D)        (None, 64, 192, 16)  0           activation_1[0][0]               \n",
      "__________________________________________________________________________________________________\n",
      "conv_2 (Conv2D)                 (None, 64, 192, 32)  12800       maxpool_1[0][0]                  \n",
      "__________________________________________________________________________________________________\n",
      "batch_norm_2 (BatchNormalizatio (None, 64, 192, 32)  128         conv_2[0][0]                     \n",
      "__________________________________________________________________________________________________\n",
      "activation_2 (Activation)       (None, 64, 192, 32)  0           batch_norm_2[0][0]               \n",
      "__________________________________________________________________________________________________\n",
      "maxpool_2 (MaxPooling2D)        (None, 32, 96, 32)   0           activation_2[0][0]               \n",
      "__________________________________________________________________________________________________\n",
      "conv_3 (Conv2D)                 (None, 32, 96, 64)   51200       maxpool_2[0][0]                  \n",
      "__________________________________________________________________________________________________\n",
      "batch_norm_3 (BatchNormalizatio (None, 32, 96, 64)   256         conv_3[0][0]                     \n",
      "__________________________________________________________________________________________________\n",
      "activation_3 (Activation)       (None, 32, 96, 64)   0           batch_norm_3[0][0]               \n",
      "__________________________________________________________________________________________________\n",
      "maxpool_3 (MaxPooling2D)        (None, 16, 48, 64)   0           activation_3[0][0]               \n",
      "__________________________________________________________________________________________________\n",
      "conv_4 (Conv2D)                 (None, 16, 48, 128)  73728       maxpool_3[0][0]                  \n",
      "__________________________________________________________________________________________________\n",
      "batch_norm_4 (BatchNormalizatio (None, 16, 48, 128)  512         conv_4[0][0]                     \n",
      "__________________________________________________________________________________________________\n",
      "activation_4 (Activation)       (None, 16, 48, 128)  0           batch_norm_4[0][0]               \n",
      "__________________________________________________________________________________________________\n",
      "maxpool_4 (MaxPooling2D)        (None, 8, 24, 128)   0           activation_4[0][0]               \n",
      "__________________________________________________________________________________________________\n",
      "conv_5 (Conv2D)                 (None, 8, 24, 256)   294912      maxpool_4[0][0]                  \n",
      "__________________________________________________________________________________________________\n",
      "batch_norm_5 (BatchNormalizatio (None, 8, 24, 256)   1024        conv_5[0][0]                     \n",
      "__________________________________________________________________________________________________\n",
      "activation_5 (Activation)       (None, 8, 24, 256)   0           batch_norm_5[0][0]               \n",
      "__________________________________________________________________________________________________\n",
      "maxpool_5 (MaxPooling2D)        (None, 4, 12, 256)   0           activation_5[0][0]               \n",
      "__________________________________________________________________________________________________\n",
      "conv_6 (Conv2D)                 (None, 4, 12, 512)   1179648     maxpool_5[0][0]                  \n",
      "__________________________________________________________________________________________________\n",
      "batch_norm_6 (BatchNormalizatio (None, 4, 12, 512)   2048        conv_6[0][0]                     \n",
      "__________________________________________________________________________________________________\n",
      "activation_6 (Activation)       (None, 4, 12, 512)   0           batch_norm_6[0][0]               \n",
      "__________________________________________________________________________________________________\n",
      "maxpool_6 (MaxPooling2D)        (None, 2, 6, 512)    0           activation_6[0][0]               \n",
      "__________________________________________________________________________________________________\n",
      "reshape (Reshape)               (None, 12, 512)      0           maxpool_6[0][0]                  \n",
      "__________________________________________________________________________________________________\n",
      "input_decoder_teacher_forcing ( (None, 32, 81)       0                                            \n",
      "__________________________________________________________________________________________________\n",
      "lstm_encoder (LSTM)             [(None, 512), (None, 2099200     reshape[0][0]                    \n",
      "__________________________________________________________________________________________________\n",
      "lstm_decoder (LSTM)             [(None, 32, 512), (N 1216512     input_decoder_teacher_forcing[0][\n",
      "                                                                 lstm_encoder[0][1]               \n",
      "                                                                 lstm_encoder[0][2]               \n",
      "__________________________________________________________________________________________________\n",
      "time_distributed_dense (TimeDis (None, 32, 81)       41553       lstm_decoder[0][0]               \n",
      "==================================================================================================\n",
      "Total params: 4,974,369\n",
      "Trainable params: 4,972,353\n",
      "Non-trainable params: 2,016\n",
      "__________________________________________________________________________________________________\n"
     ]
    }
   ],
   "source": [
    "## Define an input sequence and process it.\n",
    "encoder_inputs = Input(shape=(y_size, x_size, 1), name='input_encoder')\n",
    "\n",
    "#encoder_inputs = Input(shape=(92, 248, 1), name='input_encoder')\n",
    "\n",
    "#(7,7)\n",
    "encoder_layer = Conv2D(16, (7, 7), padding='same', use_bias=False, name='conv_1')(encoder_inputs)\n",
    "encoder_layer = BatchNormalization(name='batch_norm_1')(encoder_layer)\n",
    "encoder_layer = Activation('relu', name='activation_1')(encoder_layer)\n",
    "encoder_layer = MaxPooling2D(pool_size=(2, 2), padding='valid', name='maxpool_1')(encoder_layer)\n",
    "\n",
    "#(7,7)\n",
    "encoder_layer = Conv2D(32, (5, 5), padding='same', use_bias=False, name='conv_2')(encoder_layer)\n",
    "encoder_layer = BatchNormalization(name='batch_norm_2')(encoder_layer)\n",
    "encoder_layer = Activation('relu', name='activation_2')(encoder_layer)\n",
    "encoder_layer = MaxPooling2D(pool_size=(2, 2), padding='valid', name='maxpool_2')(encoder_layer)\n",
    "\n",
    "#(5,5)\n",
    "encoder_layer = Conv2D(64, (5, 5), padding='same', use_bias=False, name='conv_3')(encoder_layer)\n",
    "encoder_layer = BatchNormalization(name='batch_norm_3')(encoder_layer)\n",
    "encoder_layer = Activation('relu', name='activation_3')(encoder_layer)\n",
    "encoder_layer = MaxPooling2D(pool_size=(2, 2), padding='valid', name='maxpool_3')(encoder_layer)\n",
    "\n",
    "#(5,5)\n",
    "encoder_layer = Conv2D(128, (3, 3), padding='same', use_bias=False, name='conv_4')(encoder_layer)\n",
    "encoder_layer = BatchNormalization(name='batch_norm_4')(encoder_layer)\n",
    "encoder_layer = Activation('relu', name='activation_4')(encoder_layer)\n",
    "encoder_layer = MaxPooling2D(pool_size=(2, 2), padding='valid', name='maxpool_4')(encoder_layer)\n",
    "\n",
    "#(3,3)\n",
    "encoder_layer = Conv2D(256, (3, 3), padding='same', use_bias=False, name='conv_5')(encoder_layer)\n",
    "encoder_layer = BatchNormalization(name='batch_norm_5')(encoder_layer)\n",
    "encoder_layer = Activation('relu', name='activation_5')(encoder_layer)\n",
    "encoder_layer = MaxPooling2D(pool_size=(2, 2), padding='valid', name='maxpool_5')(encoder_layer)\n",
    "\n",
    "#(3,3)\n",
    "encoder_layer = Conv2D(512, (3, 3), padding='same', use_bias=False, name='conv_6')(encoder_layer)\n",
    "encoder_layer = BatchNormalization(name='batch_norm_6')(encoder_layer)\n",
    "encoder_layer = Activation('relu', name='activation_6')(encoder_layer)\n",
    "encoder_layer = MaxPooling2D(pool_size=(2, 2), padding='valid', name='maxpool_6')(encoder_layer)\n",
    "\n",
    "\n",
    "#(2,2)\n",
    "#encoder_layer = Conv2D(512, (3, 3), padding='same', use_bias=False, name='conv_6')(encoder_layer)\n",
    "#encoder_layer = BatchNormalization(name='batch_norm_6')(encoder_layer)\n",
    "#encoder_layer = Activation('relu', name='activation_6')(encoder_layer)\n",
    "#encoder_layer = MaxPooling2D(pool_size=(2, 2), padding='valid', name='maxpool_6')(encoder_layer)\n",
    "\n",
    "\n",
    "#(3,3)\n",
    "#encoder_layer = Conv2D(512, (3, 3), padding='same', use_bias=False, name='conv_6')(encoder_layer)\n",
    "#encoder_layer = BatchNormalization(name='batch_norm_6')(encoder_layer)\n",
    "#encoder_layer = Activation('relu', name='activation_6')(encoder_layer)\n",
    "#encoder_layer = MaxPooling2D(pool_size=(2, 2), padding='valid', name='maxpool_6')(encoder_layer)\n",
    "\n",
    "conv_shapes = encoder_layer.shape[1:]\n",
    "timesteps = int(conv_shapes[0]*conv_shapes[1])\n",
    "num_features = int(conv_shapes[2])\n",
    "\n",
    "encoder_layer = Reshape((-1, num_features), name='reshape')(encoder_layer)\n",
    "\n",
    "#encoder\n",
    "encoder = LSTM(latent_dim, return_state=True, name='lstm_encoder')\n",
    "_, state_h, state_c = encoder(encoder_layer)\n",
    "encoder_states = [state_h, state_c]\n",
    "\n",
    "#decoder\n",
    "decoder_inputs = Input(shape=(max_decoder_seq_length, num_decoder_tokens), name='input_decoder_teacher_forcing')\n",
    "decoder_lstm = LSTM(latent_dim, return_sequences=True, return_state=True, name='lstm_decoder')\n",
    "decoder_outputs, _, _ = decoder_lstm(decoder_inputs, initial_state=encoder_states)\n",
    "\n",
    "decoder_dense_time_dist = TimeDistributed(Dense(num_decoder_tokens, activation='softmax'), name='time_distributed_dense')\n",
    "decoder_outputs = decoder_dense_time_dist(decoder_outputs)\n",
    "\n",
    "model = Model([encoder_inputs, decoder_inputs], decoder_outputs)\n",
    "model.summary()"
   ]
  },
  {
   "cell_type": "code",
   "execution_count": null,
   "metadata": {
    "scrolled": false
   },
   "outputs": [
    {
     "name": "stdout",
     "output_type": "stream",
     "text": [
      "Train on 93407 samples, validate on 10379 samples\n",
      "Epoch 1/50\n",
      "93407/93407 [==============================] - 393s 4ms/step - loss: 0.2730 - val_loss: 0.2030\n",
      "Epoch 2/50\n",
      "93407/93407 [==============================] - 385s 4ms/step - loss: 0.1422 - val_loss: 0.1263\n",
      "Epoch 3/50\n",
      "93407/93407 [==============================] - 386s 4ms/step - loss: 0.0958 - val_loss: 0.0957\n",
      "Epoch 4/50\n",
      "93407/93407 [==============================] - 385s 4ms/step - loss: 0.0720 - val_loss: 0.0788\n",
      "Epoch 5/50\n",
      "93407/93407 [==============================] - 386s 4ms/step - loss: 0.0568 - val_loss: 0.0706\n",
      "Epoch 6/50\n",
      "93407/93407 [==============================] - 386s 4ms/step - loss: 0.0455 - val_loss: 0.0677\n",
      "Epoch 7/50\n",
      "93407/93407 [==============================] - 385s 4ms/step - loss: 0.0365 - val_loss: 0.0639\n",
      "Epoch 8/50\n",
      "93407/93407 [==============================] - 385s 4ms/step - loss: 0.0295 - val_loss: 0.0628\n",
      "Epoch 9/50\n",
      "93407/93407 [==============================] - 386s 4ms/step - loss: 0.0241 - val_loss: 0.0654\n",
      "Epoch 10/50\n",
      "93407/93407 [==============================] - 385s 4ms/step - loss: 0.0197 - val_loss: 0.0624\n",
      "Epoch 11/50\n",
      "93407/93407 [==============================] - 386s 4ms/step - loss: 0.0165 - val_loss: 0.0645\n",
      "Epoch 12/50\n",
      "93407/93407 [==============================] - 385s 4ms/step - loss: 0.0140 - val_loss: 0.0678\n",
      "Epoch 13/50\n",
      "93407/93407 [==============================] - 385s 4ms/step - loss: 0.0118 - val_loss: 0.0692\n",
      "Epoch 14/50\n",
      "13056/93407 [===>..........................] - ETA: 5:19 - loss: 0.0090"
     ]
    }
   ],
   "source": [
    "train = True\n",
    "\n",
    "batch_size = 128  # Batch size for training.\n",
    "epochs = 50 # Number of epochs to train for.\n",
    "\n",
    "n_times_aug = 1\n",
    "\n",
    "# Early stopping  \n",
    "early_stop = EarlyStopping(monitor='val_loss', min_delta=0, patience=10, verbose=1, mode='auto')\n",
    "\n",
    "if train == True:    \n",
    "    # Run training\n",
    "    model.compile(optimizer=optimizer, loss='categorical_crossentropy')\n",
    "\n",
    "    model.fit([array_images_train, decoder_input_data_train], decoder_target_data_train, batch_size=batch_size,\n",
    "              epochs=epochs, validation_data = ([array_images_val, decoder_input_data_val], decoder_target_data_val),\n",
    "              verbose=1, callbacks=[])\n",
    "    \n",
    "#    model.fit_generator(train_datagen.flow([array_images_train, decoder_input_data_train], decoder_target_data_train, batch_size=batch_size),\n",
    "#                        steps_per_epoch = n_times_aug * len(array_images_train) / batch_size, epochs=epochs, \n",
    "#                        validation_data = val_datagen.flow([array_images_val, decoder_input_data_val], decoder_target_data_val, batch_size=batch_size),\n",
    "#                        validation_steps =  1, verbose=1, callbacks=[early_stop])"
   ]
  },
  {
   "cell_type": "code",
   "execution_count": null,
   "metadata": {},
   "outputs": [],
   "source": [
    "#if train == False:\n",
    "model.save('../snapshots/model_IAM.h5')"
   ]
  },
  {
   "cell_type": "code",
   "execution_count": null,
   "metadata": {},
   "outputs": [],
   "source": [
    "if train == False:\n",
    "    from keras.models import load_model\n",
    "    model = load_model('../snapshots/model_IAM.h5')"
   ]
  },
  {
   "cell_type": "code",
   "execution_count": null,
   "metadata": {},
   "outputs": [],
   "source": [
    "# Define inference models \n",
    "#encoder\n",
    "#encoder_inputs_inference = Input(shape=(x_size, y_size, 1), name='input_encoder_inference')\n",
    "encoder_inference = Model(model.get_input_at(0)[0], model.get_layer(\"lstm_encoder\").output[1:])\n",
    "\n",
    "#decoder\n",
    "decoder_state_input_h = Input(shape=(latent_dim,))\n",
    "decoder_state_input_c = Input(shape=(latent_dim,))\n",
    "decoder_states_inputs = [decoder_state_input_h, decoder_state_input_c]\n",
    "decoder_inputs_inference = Input(shape=(1, num_decoder_tokens), name='input_decoder_inference')\n",
    "\n",
    "decoder_lstm = model.get_layer(\"lstm_decoder\")\n",
    "decoder_outputs, state_h, state_c = decoder_lstm(decoder_inputs_inference, initial_state=decoder_states_inputs)\n",
    "decoder_states = [state_h, state_c]\n",
    "\n",
    "#dense layer\n",
    "decoder_dense = model.get_layer('time_distributed_dense').layer\n",
    "decoder_outputs = decoder_dense(decoder_outputs)\n",
    "\n",
    "#inference\n",
    "decoder_inference = Model([decoder_inputs_inference] + decoder_states_inputs, [decoder_outputs] + decoder_states)"
   ]
  },
  {
   "cell_type": "code",
   "execution_count": null,
   "metadata": {},
   "outputs": [],
   "source": [
    "reverse_target_char_index = dict((i, char) for char, i in target_token_index.items())\n",
    "\n",
    "def decode_sequence(input_seq, max_decoder_seq_length=5):\n",
    "    # Encode the input as state vectors.\n",
    "    states_value = encoder_inference.predict(input_seq)\n",
    "\n",
    "    # Generate empty target sequence of length 1.\n",
    "    target_seq = np.zeros((1, 1, num_decoder_tokens))\n",
    "    # Populate the first character of target sequence with the start character.\n",
    "    target_seq[0, 0, target_token_index['[']] = 1.\n",
    "\n",
    "    stop_condition = False\n",
    "    decoded_sentence = ''\n",
    "    while not stop_condition:\n",
    "        output_tokens, h, c = decoder_inference.predict( [target_seq] + states_value )\n",
    "           \n",
    "        # Sample a token\n",
    "        sampled_token_index = np.argmax(output_tokens[0, -1, :])\n",
    "        sampled_char = reverse_target_char_index[sampled_token_index]\n",
    "        decoded_sentence += sampled_char\n",
    "\n",
    "        # Exit condition: either hit max length\n",
    "        # or find stop character.\n",
    "        if (sampled_char == ']'): \n",
    "            #or len(decoded_sentence) > max_decoder_seq_length):\n",
    "            stop_condition = True\n",
    "\n",
    "        # Update the target sequence (of length 1).\n",
    "        target_seq = np.zeros((1, 1, num_decoder_tokens))\n",
    "        target_seq[0, 0, sampled_token_index] = 1.\n",
    "\n",
    "        # Update states\n",
    "        states_value = [h, c]\n",
    "\n",
    "    return decoded_sentence"
   ]
  },
  {
   "cell_type": "code",
   "execution_count": null,
   "metadata": {
    "scrolled": true
   },
   "outputs": [],
   "source": [
    "pred_train = []\n",
    "\n",
    "for ind in range(len(words_train)):    \n",
    "    #row_pred = []\n",
    "\n",
    "    input_seq = np.reshape( array_images_train[ind,:,:], (-1, y_size,  x_size, 1) )\n",
    "    \n",
    "    decoded_sentence = decode_sequence(input_seq)\n",
    "    decoded_sentence = decoded_sentence.replace(\"]\", \"\")\n",
    "    \n",
    "    #row_pred.append(words_train[ind])\n",
    "    #row_pred.append(decoded_sentence)\n",
    "    \n",
    "    pred_train.append(decoded_sentence)\n",
    "    \n",
    "    #print('Data', words_test[ind], '-', ind, 'out of', len(words_test))\n",
    "    print('True sequence:', words_train[ind])\n",
    "    print('Decoded sequence:', decoded_sentence, '\\n')"
   ]
  },
  {
   "cell_type": "code",
   "execution_count": null,
   "metadata": {
    "scrolled": true
   },
   "outputs": [],
   "source": [
    "pred_test = []\n",
    "\n",
    "for ind in range(len(words_test)):    \n",
    "    #row_pred = []\n",
    "\n",
    "    input_seq = np.reshape( array_images_test[ind,:,:], (-1, y_size,  x_size, 1) )\n",
    "    \n",
    "    decoded_sentence = decode_sequence(input_seq)\n",
    "    decoded_sentence = decoded_sentence.replace(\"]\", \"\")\n",
    "    \n",
    "    #row_pred.append(words_test[ind])\n",
    "    #row_pred.append(decoded_sentence)\n",
    "    \n",
    "    pred_test.append(decoded_sentence)\n",
    "    \n",
    "    #print('Data', words_test[ind], '-', ind, 'out of', len(words_test))\n",
    "    print('True sentence:', words_test[ind])\n",
    "    print('Decoded sentence:', decoded_sentence, '\\n')"
   ]
  },
  {
   "cell_type": "code",
   "execution_count": null,
   "metadata": {},
   "outputs": [],
   "source": [
    "def score_prediction(y_true, y_pred):\n",
    "    words_identified = 0\n",
    "    characters_identified = 0\n",
    "    char_tot = 0\n",
    "#    CER = 0\n",
    "\n",
    "#    list_accuracy_characters = []\n",
    "    \n",
    "    for i in range(len(y_pred)):\n",
    "        #pred_row = [y_true[i], y_pred[i]] \n",
    "        \n",
    "        #check if date are the same\n",
    "        #if pred_row[0] == pred_row[1]:\n",
    "        if y_true[i] == y_pred[i]:\n",
    "\n",
    "            words_identified += 1\n",
    "            \n",
    "#        if len(pred_row[1]) < len(pred_row[0]):\n",
    "#            pred_row[1] += '-' * (len(pred_row[0]) - len(pred_row[1]))    \n",
    "#        elif len(pred_row[1]) > len(pred_row[1]):\n",
    "\n",
    "#            pred_row[1] = pred_row[1][0:len(pred_row[0])]\n",
    "\n",
    "        #check the number of characters that are the same\n",
    " #       print(y_true[i])\n",
    " #       print(y_pred[i])\n",
    "        \n",
    "        levenshtein_distance = edit_distance(y_true[i], y_pred[i])\n",
    "        n_char = np.maximum(len(y_true[i]), len(y_pred[i]))\n",
    "        \n",
    "        normalized_distance = levenshtein_distance/n_char\n",
    "\n",
    "        characters_identified += normalized_distance\n",
    "#        char_tot += n_char\n",
    "        \n",
    "#        CER += normalized_distance\n",
    "        \n",
    "#        print(len(y_true[i]))\n",
    "#        for k in range(len(y_true[i])):\n",
    "#            print()\n",
    "#            if y_true[i][k] == y_pred[1][k]:\n",
    "#        characters_identified += 1\n",
    "#        char_tot += 1\n",
    "\n",
    "    # array_accuracy_characters = np.asarray(list_accuracy_characters)\n",
    "    CER = float((characters_identified) / len(y_true))\n",
    "    WER = (len(y_pred) - words_identified)/len(y_pred) \n",
    "        \n",
    "    return CER, WER\n",
    "#    return WER"
   ]
  },
  {
   "cell_type": "code",
   "execution_count": null,
   "metadata": {},
   "outputs": [],
   "source": [
    "CER_test, WER_test = score_prediction(words_test, pred_test)\n",
    "#WER_test = score_prediction(words_test, pred_test)\n",
    "print('CER: ', round(CER_test * 100, 3), '%')\n",
    "print('WER: ', round(WER_test * 100, 3), '%')"
   ]
  },
  {
   "cell_type": "code",
   "execution_count": null,
   "metadata": {},
   "outputs": [],
   "source": [
    "CER_train, WER_train = score_prediction(words_train, pred_train)\n",
    "#print('CER: ', round(CER_train * 100, 3), '%')\n",
    "print('CER: ', round(CER_train * 100, 3), '%')\n",
    "print('WER: ', round(WER_train * 100, 3), '%')"
   ]
  },
  {
   "cell_type": "code",
   "execution_count": null,
   "metadata": {},
   "outputs": [],
   "source": []
  },
  {
   "cell_type": "code",
   "execution_count": null,
   "metadata": {},
   "outputs": [],
   "source": []
  },
  {
   "cell_type": "code",
   "execution_count": null,
   "metadata": {},
   "outputs": [],
   "source": []
  }
 ],
 "metadata": {
  "kernelspec": {
   "display_name": "Python 3",
   "language": "python",
   "name": "python3"
  },
  "language_info": {
   "codemirror_mode": {
    "name": "ipython",
    "version": 3
   },
   "file_extension": ".py",
   "mimetype": "text/x-python",
   "name": "python",
   "nbconvert_exporter": "python",
   "pygments_lexer": "ipython3",
   "version": "3.5.2"
  }
 },
 "nbformat": 4,
 "nbformat_minor": 2
}
